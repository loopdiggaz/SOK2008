{
 "cells": [
  {
   "cell_type": "markdown",
   "metadata": {},
   "source": [
    "Utfordring 3.1\n",
    "\n",
    "Tone har nytte av sammensatt konsum og fritid. Gå ut ifra at Tone sin nytte kan beskrives ved bruk av Cobb-Douglas funksjonen her nede:\n",
    "\n",
    "$$ U(c,l) = c^θ*l^{1-θ}, der θ = 0.5. $$\n",
    "\n",
    "\n",
    "Tone har en arbeidsfri inntekt $ (m) $ lik 100 (i ti-tall kroner). Hun kan ikke velge sin arbeidstid fritt. Dersom Tone jobber, må hun jobbe $ 40 $ timer per uke. Hun kan maksimalt jobbe $ 60 $ timer per uke $ (l_0=60). $ Dersom Tone ikke tar en jobb, har hun tilgang til stønad.\n",
    "\n",
    "Gå ut ifra at arbeidsmarkedet er «perfekt». Utled Tone sin statiske reservasjonslønn i disse to situasjonene: 1) stønaden er lik null, 2) stønaden er lik $ 100. $ Gjør rede for dine matematiske beregninger.\n",
    "\n",
    "Gi økonomisk intuisjon til hvorfor reservasjonslønna er ulik i disse to situasjonene. Illustrer grafisk. Du finne støtte til hvordan du kan lage grafer i dette dokumentet.\n",
    "\n"
   ]
  },
  {
   "cell_type": "code",
   "execution_count": 1,
   "metadata": {},
   "outputs": [],
   "source": [
    "import sympy as sp\n",
    "import numpy as np\n",
    "from matplotlib import pyplot as plt\n",
    "\n",
    "# symboler jeg kan få bruk for\n",
    "\n",
    "C,c,l,a,b,u,u_0,w = sp.symbols('C c l L a b u u_0 w')"
   ]
  },
  {
   "cell_type": "code",
   "execution_count": 2,
   "metadata": {},
   "outputs": [
    {
     "data": {
      "text/plain": [
       "[5.00781250000000]"
      ]
     },
     "execution_count": 2,
     "metadata": {},
     "output_type": "execute_result"
    }
   ],
   "source": [
    "def nytte(c,l):\n",
    "    return c**0.5*l**0.5\n",
    "\n",
    "# Stønad er lik 100\n",
    "\n",
    "nytte(100,60)\n",
    "\n",
    "eq = sp.Eq((100+w*40)**0.5*(60-40)**0.5,77.5)\n",
    "\n",
    "eq_sol = sp.solve(eq,w)\n",
    "\n",
    "eq_sol"
   ]
  },
  {
   "cell_type": "code",
   "execution_count": 3,
   "metadata": {},
   "outputs": [
    {
     "data": {
      "text/plain": [
       "[7.50781250000000]"
      ]
     },
     "execution_count": 3,
     "metadata": {},
     "output_type": "execute_result"
    }
   ],
   "source": [
    "# Stønad er lik 0\n",
    "\n",
    "eq2 = sp.Eq((w*40)**0.5*(60-40)**0.5,77.5)\n",
    "\n",
    "eq2_sol = sp.solve(eq2,w)\n",
    "\n",
    "eq2_sol"
   ]
  },
  {
   "cell_type": "code",
   "execution_count": 4,
   "metadata": {},
   "outputs": [
    {
     "ename": "NameError",
     "evalue": "name 'L_0' is not defined",
     "output_type": "error",
     "traceback": [
      "\u001b[1;31m---------------------------------------------------------------------------\u001b[0m",
      "\u001b[1;31mNameError\u001b[0m                                 Traceback (most recent call last)",
      "\u001b[1;32mc:\\Users\\gusta\\OneDrive\\Dokumenter\\SOK-1004 innføring i økonomi med datavitenskap\\SOK2008\\kladd.ipynb Cell 5\u001b[0m line \u001b[0;36m1\n\u001b[0;32m     <a href='vscode-notebook-cell:/c%3A/Users/gusta/OneDrive/Dokumenter/SOK-1004%20innf%C3%B8ring%20i%20%C3%B8konomi%20med%20datavitenskap/SOK2008/kladd.ipynb#W1sZmlsZQ%3D%3D?line=10'>11</a>\u001b[0m ax\u001b[39m.\u001b[39mspines[\u001b[39m'\u001b[39m\u001b[39mtop\u001b[39m\u001b[39m'\u001b[39m]\u001b[39m.\u001b[39mset_color(\u001b[39m'\u001b[39m\u001b[39mnone\u001b[39m\u001b[39m'\u001b[39m)\n\u001b[0;32m     <a href='vscode-notebook-cell:/c%3A/Users/gusta/OneDrive/Dokumenter/SOK-1004%20innf%C3%B8ring%20i%20%C3%B8konomi%20med%20datavitenskap/SOK2008/kladd.ipynb#W1sZmlsZQ%3D%3D?line=12'>13</a>\u001b[0m \u001b[39mfor\u001b[39;00m i \u001b[39min\u001b[39;00m \u001b[39mrange\u001b[39m (\u001b[39m0\u001b[39m,\u001b[39m100\u001b[39m,\u001b[39m20\u001b[39m):\n\u001b[1;32m---> <a href='vscode-notebook-cell:/c%3A/Users/gusta/OneDrive/Dokumenter/SOK-1004%20innf%C3%B8ring%20i%20%C3%B8konomi%20med%20datavitenskap/SOK2008/kladd.ipynb#W1sZmlsZQ%3D%3D?line=13'>14</a>\u001b[0m     ax\u001b[39m.\u001b[39mplot(L_0, indiff_L(i,\u001b[39m0.5\u001b[39m,\u001b[39m0.5\u001b[39m,L_0))\n",
      "\u001b[1;31mNameError\u001b[0m: name 'L_0' is not defined"
     ]
    },
    {
     "data": {
      "image/png": "[encoded data removed]",
      "text/plain": [
       "<Figure size 640x480 with 1 Axes>"
      ]
     },
     "metadata": {},
     "output_type": "display_data"
    }
   ],
   "source": [
    "u = c**0.5*l**0.5\n",
    "\n",
    "L_ind_sol=sp.solve(u-u_0,l)[0]\n",
    "\n",
    "indiff_L=sp.lambdify((u_0,a,b,C), L_ind_sol)\n",
    "\n",
    "indiff_L(u_0,a,b,C)\n",
    "\n",
    "fig , ax = plt.subplots()\n",
    "ax.spines['right'].set_color('none')\n",
    "ax.spines['top'].set_color('none')\n",
    "\n",
    "for i in range (0,100,20):\n",
    "    ax.plot(L_0, indiff_L(i,0.5,0.5,L_0))"
   ]
  },
  {
   "cell_type": "code",
   "execution_count": null,
   "metadata": {},
   "outputs": [],
   "source": []
  }
 ],
 "metadata": {
  "kernelspec": {
   "display_name": "Python 3",
   "language": "python",
   "name": "python3"
  },
  "language_info": {
   "codemirror_mode": {
    "name": "ipython",
    "version": 3
   },
   "file_extension": ".py",
   "mimetype": "text/x-python",
   "name": "python",
   "nbconvert_exporter": "python",
   "pygments_lexer": "ipython3",
   "version": "3.11.5"
  }
 },
 "nbformat": 4,
 "nbformat_minor": 2
}
